{
 "cells": [
  {
   "cell_type": "markdown",
   "metadata": {},
   "source": [
    "![Image](https://www.maxpixel.net/static/photo/2x/Chennai-Temple-India-2114847.jpg)"
   ]
  },
  {
   "cell_type": "markdown",
   "metadata": {},
   "source": [
    "# Water Reservoir Capacity in Chennai, Tamil Nadum, India"
   ]
  },
  {
   "cell_type": "markdown",
   "metadata": {},
   "source": [
    "![Image](https://upload.wikimedia.org/wikipedia/commons/thumb/0/04/India_Tamil_Nadu_locator_map.svg/440px-India_Tamil_Nadu_locator_map.svg.png)"
   ]
  },
  {
   "cell_type": "code",
   "execution_count": 6,
   "metadata": {},
   "outputs": [],
   "source": [
    "import pandas as pd\n",
    "import ipywidgets"
   ]
  },
  {
   "cell_type": "markdown",
   "metadata": {},
   "source": [
    "The following dataset was downloaded from Kaggle at https://www.kaggle.com/sudalairajkumar/chennai-water-management. According to their documentation, this represents data on water resources available to Chennai (also known as Madras), the capital of the state of Tamil Nadum India, a massive urban centre on the coast of the Bay of Bengal (paraphrased from the above cited source). There are 4 fresh-water reservoirs that serve the population of Chennai, Red Hills, Cholavaram, Poondi and Chembarambakkam. All are facting water shortages. The data is capacity of each reservoir on different dates, in mcft. Let's bring in and examine those data:"
   ]
  },
  {
   "cell_type": "code",
   "execution_count": 9,
   "metadata": {},
   "outputs": [],
   "source": [
    "chennai = pd.read_csv('chennai_reservoir_levels.csv')"
   ]
  },
  {
   "cell_type": "code",
   "execution_count": 10,
   "metadata": {},
   "outputs": [
    {
     "data": {
      "text/plain": [
       "<bound method NDFrame.head of             Date  POONDI  CHOLAVARAM  REDHILLS  CHEMBARAMBAKKAM\n",
       "0     01-01-2004     3.9         0.0     268.0              0.0\n",
       "1     02-01-2004     3.9         0.0     268.0              0.0\n",
       "2     03-01-2004     3.9         0.0     267.0              0.0\n",
       "3     04-01-2004     3.9         0.0     267.0              0.0\n",
       "4     05-01-2004     3.8         0.0     267.0              0.0\n",
       "5     06-01-2004     3.8         0.0     266.0              0.0\n",
       "6     07-01-2004     3.8         0.0     266.0              0.0\n",
       "7     08-01-2004     3.7         0.0     265.0              0.0\n",
       "8     09-01-2004     3.7         0.0     264.0              0.0\n",
       "9     10-01-2004     3.7         0.0     264.0              0.0\n",
       "10    11-01-2004     3.6         0.0     263.0              0.0\n",
       "11    12-01-2004     3.6         0.0     262.0              0.0\n",
       "12    13-01-2004     3.6         0.0     261.0              0.0\n",
       "13    14-01-2004     3.5         0.0     260.0              0.0\n",
       "14    15-01-2004     3.5         0.0     259.0              0.0\n",
       "15    16-01-2004     3.4         0.0     258.0              0.0\n",
       "16    17-01-2004     3.4         0.0     256.0              0.0\n",
       "17    18-01-2004     3.4         0.0     254.0              0.0\n",
       "18    19-01-2004     3.4         0.0     252.0              0.0\n",
       "19    20-01-2004     3.4         0.0     250.0              0.0\n",
       "20    21-01-2004     3.3         0.0     247.0              0.0\n",
       "21    22-01-2004     3.3         0.0     244.0              0.0\n",
       "22    23-01-2004     3.3         0.0     242.0              0.0\n",
       "23    24-01-2004     3.3         0.0     239.0              0.0\n",
       "24    25-01-2004     3.2         0.0     237.0              0.0\n",
       "25    26-01-2004     3.2         0.0     234.0              0.0\n",
       "26    27-01-2004     3.9         0.0     232.0              0.0\n",
       "27    28-01-2004     4.9         0.0     230.0              0.0\n",
       "28    29-01-2004     4.9         0.0     227.0              0.0\n",
       "29    30-01-2004     4.9         0.0     225.0              0.0\n",
       "...          ...     ...         ...       ...              ...\n",
       "5617  19-05-2019   114.0         4.0      25.0              1.0\n",
       "5618  20-05-2019   109.0         3.0      22.0              1.0\n",
       "5619  21-05-2019   104.0         3.0      19.0              1.0\n",
       "5620  22-05-2019   100.0         3.0      16.0              1.0\n",
       "5621  23-05-2019    95.0         3.0      13.0              1.0\n",
       "5622  24-05-2019    90.0         3.0      10.0              1.0\n",
       "5623  25-05-2019    85.0         2.0       9.0              1.0\n",
       "5624  26-05-2019    82.0         2.0       8.0              1.0\n",
       "5625  27-05-2019    79.0         2.0       7.0              1.0\n",
       "5626  28-05-2019    74.0         2.0       6.0              1.0\n",
       "5627  29-05-2019    69.0         2.0       4.0              1.0\n",
       "5628  30-05-2019    64.0         2.0       3.0              1.0\n",
       "5629  31-05-2019    59.0         2.0       3.0              1.0\n",
       "5630  01-06-2019    56.0         1.0       3.0              1.0\n",
       "5631  02-06-2019    53.0         1.0       3.0              1.0\n",
       "5632  03-06-2019    50.0         1.0       3.0              1.0\n",
       "5633  04-06-2019    48.0         1.0       2.0              1.0\n",
       "5634  05-06-2019    46.0         1.0       2.0              1.0\n",
       "5635  06-06-2019    44.0         1.0       2.0              1.0\n",
       "5636  07-06-2019    42.0         1.0       2.0              1.0\n",
       "5637  08-06-2019    40.0         1.0       2.0              1.0\n",
       "5638  09-06-2019    38.0         1.0       2.0              1.0\n",
       "5639  10-06-2019    36.0         0.0       1.0              1.0\n",
       "5640  11-06-2019    34.0         0.0       1.0              1.0\n",
       "5641  12-06-2019    32.0         0.0       1.0              1.0\n",
       "5642  13-06-2019    30.0         0.0       0.0              1.0\n",
       "5643  14-06-2019    28.0         0.0       0.0              1.0\n",
       "5644  15-06-2019    27.0         0.0       0.0              1.0\n",
       "5645  16-06-2019    26.0         0.0       0.0              1.0\n",
       "5646  17-06-2019    25.0         0.0       0.0              1.0\n",
       "\n",
       "[5647 rows x 5 columns]>"
      ]
     },
     "execution_count": 10,
     "metadata": {},
     "output_type": "execute_result"
    }
   ],
   "source": [
    "chennai.head"
   ]
  },
  {
   "cell_type": "code",
   "execution_count": null,
   "metadata": {},
   "outputs": [],
   "source": []
  }
 ],
 "metadata": {
  "kernelspec": {
   "display_name": "Python 3",
   "language": "python",
   "name": "python3"
  },
  "language_info": {
   "codemirror_mode": {
    "name": "ipython",
    "version": 3
   },
   "file_extension": ".py",
   "mimetype": "text/x-python",
   "name": "python",
   "nbconvert_exporter": "python",
   "pygments_lexer": "ipython3",
   "version": "3.7.3"
  }
 },
 "nbformat": 4,
 "nbformat_minor": 2
}
